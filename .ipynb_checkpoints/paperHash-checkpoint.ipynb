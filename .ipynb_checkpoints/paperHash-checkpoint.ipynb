{
 "cells": [
  {
   "cell_type": "code",
   "execution_count": 31,
   "metadata": {},
   "outputs": [],
   "source": [
    "from collections import Counter\n",
    "import random\n",
    "import matplotlib.pyplot\n"
   ]
  },
  {
   "cell_type": "code",
   "execution_count": 208,
   "metadata": {},
   "outputs": [],
   "source": [
    "fun = [lambda a,b: a + b] + \\\n",
    "   [lambda a,b: a * b]\n",
    "\n",
    "def bepic(message):\n",
    "    m = int(message) ** 2\n",
    "    m += 254\n",
    "    for i in range(4):\n",
    "        if i%4 < 2:\n",
    "            a = int(str(m)[:2])\n",
    "        else:\n",
    "            a = int(str(m)[-2:])\n",
    "        m = fun[i%2](a+2,m)\n",
    "    if(m<99999999):\n",
    "        m = str(m) + '0'*(8-len(str(m)))\n",
    "    else:\n",
    "        m = str(m)[:8]\n",
    "    return int(m)"
   ]
  },
  {
   "cell_type": "code",
   "execution_count": 209,
   "metadata": {},
   "outputs": [],
   "source": [
    "def cepic(m):\n",
    "    n = 8\n",
    "    m = [m[i:i+n] for i in range(0, len(m), n)]\n",
    "    e=[]\n",
    "    for i in range(8):\n",
    "        b = 0\n",
    "        for j in range(7):\n",
    "            b += int(m[j][i]) + i*j + 11\n",
    "        e.append(b)\n",
    "\n",
    "    inter = 0\n",
    "    final = ''\n",
    "    for i in range(8):\n",
    "        nextBit = str(((inter >> i) ^ (e[i] << i)) % 10)\n",
    "        final += nextBit\n",
    "        inter = e[i]\n",
    "        \n",
    "    return int(final)"
   ]
  },
  {
   "cell_type": "code",
   "execution_count": 221,
   "metadata": {},
   "outputs": [
    {
     "name": "stdout",
     "output_type": "stream",
     "text": [
      "[13802931]\n"
     ]
    }
   ],
   "source": [
    "c = []\n",
    "b = []\n",
    "ran = [0, 1]\n",
    "for i in range(ran[0], ran[1]):\n",
    "    m = ''.join(str(random.randint(0,9)) for _ in range(48)) + '0'*7 + '1'\n",
    "#     m = '0'*56\n",
    "#     print(m)\n",
    "    c.append(cepic(m))\n",
    "#     b.append(bepic(m))\n",
    "\n",
    "cols = 0\n",
    "count = Counter(c)\n",
    "for i in count:\n",
    "    cols += count[i] - 1\n",
    "# bols = 0\n",
    "# bount = Counter(b)\n",
    "# for i in bount:\n",
    "#     bols += bount[i] - 1\n",
    "# cols\n",
    "print(c)\n",
    "# print(cols, bols)"
   ]
  },
  {
   "cell_type": "code",
   "execution_count": null,
   "metadata": {},
   "outputs": [],
   "source": []
  }
 ],
 "metadata": {
  "kernelspec": {
   "display_name": "Python 3",
   "language": "python",
   "name": "python3"
  },
  "language_info": {
   "codemirror_mode": {
    "name": "ipython",
    "version": 3
   },
   "file_extension": ".py",
   "mimetype": "text/x-python",
   "name": "python",
   "nbconvert_exporter": "python",
   "pygments_lexer": "ipython3",
   "version": "3.7.0"
  }
 },
 "nbformat": 4,
 "nbformat_minor": 2
}
